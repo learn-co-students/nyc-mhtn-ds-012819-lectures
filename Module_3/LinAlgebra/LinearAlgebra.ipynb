{
 "cells": [
  {
   "cell_type": "markdown",
   "metadata": {
    "slideshow": {
     "slide_type": "slide"
    }
   },
   "source": [
    "# Getting Started\n",
    "\n",
    "Last week you did a project using a linear regression, but many of you used features that were polynomial terms. Why is it still called linear regression even if you us non-linear features?"
   ]
  },
  {
   "cell_type": "markdown",
   "metadata": {
    "slideshow": {
     "slide_type": "subslide"
    }
   },
   "source": [
    "## Aims: \n",
    "- Explain the role of linear algebra in data science"
   ]
  },
  {
   "cell_type": "markdown",
   "metadata": {
    "slideshow": {
     "slide_type": "subslide"
    }
   },
   "source": [
    "## Agenda:\n",
    "\n",
    "- What is linear algebra?\n",
    "- How does it realate to data science?\n",
    "- How can we use linear algebra to solve linear regression?"
   ]
  },
  {
   "cell_type": "markdown",
   "metadata": {
    "slideshow": {
     "slide_type": "slide"
    }
   },
   "source": [
    "## What is Linear Algebra\n",
    "The collection of methods deriving unknowns from knowns in mathematics. \n",
    "\n",
    "**Linear Algebra** is the branch that deals with linear equations and linear functions which are represented through matrices and vectors. \n",
    "\n",
    "Algebra deals primarily with scalars (one-dimensional entities), but Linear Algebra has vectors and matrices (entities which possess two or more dimensional components) to deal with linear equations and functions."
   ]
  },
  {
   "cell_type": "markdown",
   "metadata": {
    "slideshow": {
     "slide_type": "subslide"
    }
   },
   "source": [
    "### Scalars, Vectors, Matrices and Tensors\n",
    "- A scalar is a single number\n",
    "- A vector is an array of numbers.\n",
    "- A matrix is a 2-D array\n",
    "- A tensor is a n-dimensional array with n>2"
   ]
  },
  {
   "cell_type": "markdown",
   "metadata": {
    "slideshow": {
     "slide_type": "fragment"
    }
   },
   "source": [
    "<img src=\"linal_types.png\" width=\"350\">\n"
   ]
  },
  {
   "cell_type": "markdown",
   "metadata": {
    "slideshow": {
     "slide_type": "subslide"
    }
   },
   "source": [
    "With *transposition* we can convert a *row vector* to a *column vector* and vice versa."
   ]
  },
  {
   "cell_type": "markdown",
   "metadata": {
    "slideshow": {
     "slide_type": "fragment"
    }
   },
   "source": [
    "<img src=\"tanspose.png\" width=\"350\">"
   ]
  },
  {
   "cell_type": "markdown",
   "metadata": {
    "slideshow": {
     "slide_type": "subslide"
    }
   },
   "source": [
    "### Multiplying Matrices and Vectors\n",
    "\n",
    "The dot product of matrices & vectors is used in every equation explaining data science algorithms."
   ]
  },
  {
   "cell_type": "markdown",
   "metadata": {
    "slideshow": {
     "slide_type": "fragment"
    }
   },
   "source": [
    "<img src=\"matrix_multiplication.png\" width=\"300\">\n"
   ]
  },
  {
   "cell_type": "markdown",
   "metadata": {
    "slideshow": {
     "slide_type": "subslide"
    }
   },
   "source": [
    "### Identity and Inverse Matrices\n",
    "The *identity matrix* In is a special matrix of shape (n×n) that is filled with 0 except the diagonal that is filled with 1. An *inverse matrix* is that results in the identity matrix when it is multiplied by its original form.\n",
    "\n"
   ]
  },
  {
   "cell_type": "markdown",
   "metadata": {
    "slideshow": {
     "slide_type": "fragment"
    }
   },
   "source": [
    "<img src=\"idenityMatrix.png\" width=\"200\">"
   ]
  },
  {
   "cell_type": "markdown",
   "metadata": {
    "slideshow": {
     "slide_type": "fragment"
    }
   },
   "source": [
    "<img src=\"invers_matrix.png\" width=\"300\">"
   ]
  },
  {
   "cell_type": "markdown",
   "metadata": {
    "slideshow": {
     "slide_type": "slide"
    }
   },
   "source": [
    "## Linear Algebra in Data Science\n"
   ]
  },
  {
   "cell_type": "markdown",
   "metadata": {
    "slideshow": {
     "slide_type": "fragment"
    }
   },
   "source": [
    "\n",
    "- Working with images\n",
    "- Principle Component Analysis\n",
    "- Linear Regression\n",
    "- Recommender systems\n",
    "- Natural Language Processing (Bag of Words)\n",
    "- Singular-Value Decomposition\n",
    "- Deep Learning\n"
   ]
  },
  {
   "cell_type": "markdown",
   "metadata": {
    "slideshow": {
     "slide_type": "subslide"
    }
   },
   "source": [
    "In practice, especially in entry-level roles, you’ll often be using out-of-the-box ML implementations. There are robust libraries of common libraries in many programming languages. "
   ]
  },
  {
   "cell_type": "markdown",
   "metadata": {
    "slideshow": {
     "slide_type": "fragment"
    }
   },
   "source": [
    "However other roles need much more original ML research and development. You may need to translate algorithms from academic papers into working code. Or, you might research enhancements based on your business’s unique challenges.\n",
    "\n",
    "In other words, you’ll be implementing algorithms from scratch much more often.\n",
    "\n",
    "For these positions, mastery of both linear algebra and multivariable calculus is a must."
   ]
  },
  {
   "cell_type": "markdown",
   "metadata": {
    "slideshow": {
     "slide_type": "slide"
    }
   },
   "source": [
    "### Linear Algebra with Linear Regression\n",
    "\n",
    "What is the goal of linear regression?"
   ]
  },
  {
   "cell_type": "markdown",
   "metadata": {
    "slideshow": {
     "slide_type": "subslide"
    }
   },
   "source": [
    "There are many ways to describe and solve the linear regression problem, i.e. finding a set of coefficients that when multiplied by each of the input variables and added together results in the best prediction of the output variable.\n",
    "\n",
    "If you have used a machine learning tool or library, the most common way of solving linear regression is via a least squares optimization that is solved using matrix factorization methods from linear regression, such as an LU decomposition or a singular-value decomposition, or SVD.\n",
    "\n",
    "Even the common way of summarizing the linear regression equation uses linear algebra notation:\n",
    "\n",
    "`y = A . b`\n",
    "\n"
   ]
  },
  {
   "cell_type": "markdown",
   "metadata": {
    "slideshow": {
     "slide_type": "subslide"
    }
   },
   "source": [
    "Let's start with a linear hypothesis:\n",
    "\n",
    "<img src=\"linreg_model.png\" width=\"400\">"
   ]
  },
  {
   "cell_type": "markdown",
   "metadata": {
    "slideshow": {
     "slide_type": "fragment"
    }
   },
   "source": [
    "We can write the same in concise notation as below.\n",
    "\n",
    "<img src=\"concisemodel.png\" width=\"400\">\n"
   ]
  },
  {
   "cell_type": "markdown",
   "metadata": {
    "slideshow": {
     "slide_type": "subslide"
    }
   },
   "source": [
    "<img src=\"matrix_model.png\" width=\"400\">\n",
    "\n",
    "Where\n",
    "- Y : is output vector for **m training examples**.\n",
    "- X : is matrix of size m*n where each ith row belongs to ith training set.\n",
    "- Q : is weight vector of size **n** for n training features.\n"
   ]
  },
  {
   "cell_type": "markdown",
   "metadata": {
    "slideshow": {
     "slide_type": "subslide"
    }
   },
   "source": [
    "<img src=\"deriv1.png\" width=\"500\">\n"
   ]
  },
  {
   "cell_type": "markdown",
   "metadata": {
    "slideshow": {
     "slide_type": "fragment"
    }
   },
   "source": [
    "<img src=\"deriv2.png\" width=\"500\">\n"
   ]
  },
  {
   "cell_type": "markdown",
   "metadata": {
    "slideshow": {
     "slide_type": "fragment"
    }
   },
   "source": [
    "<img src=\"deriv3.png\" width=\"500\">\n"
   ]
  },
  {
   "cell_type": "markdown",
   "metadata": {
    "slideshow": {
     "slide_type": "subslide"
    }
   },
   "source": [
    "Which results in:\n",
    "    \n",
    "<img src=\"deriv_final.png\" width=\"400\">\n"
   ]
  },
  {
   "cell_type": "markdown",
   "metadata": {
    "slideshow": {
     "slide_type": "slide"
    }
   },
   "source": [
    "### Code: Linear Regression with Linear Algebra"
   ]
  },
  {
   "cell_type": "code",
   "execution_count": 1,
   "metadata": {
    "slideshow": {
     "slide_type": "subslide"
    }
   },
   "outputs": [],
   "source": [
    "import numpy as np\n",
    "import matplotlib.pyplot as plt\n",
    "%matplotlib inline"
   ]
  },
  {
   "cell_type": "code",
   "execution_count": 3,
   "metadata": {
    "slideshow": {
     "slide_type": "subslide"
    }
   },
   "outputs": [
    {
     "name": "stdout",
     "output_type": "stream",
     "text": [
      "[[0.29361417 0.45339817]\n",
      " [0.72019673 0.5137937 ]\n",
      " [0.83432312 0.44732775]\n",
      " [0.41902238 0.04539008]\n",
      " [0.44722525 0.05772281]\n",
      " [0.05135291 0.52872724]\n",
      " [0.67802723 0.42319115]\n",
      " [0.35941821 0.42960771]\n",
      " [0.52153886 0.95570518]\n",
      " [0.5583696  0.9927485 ]]\n"
     ]
    }
   ],
   "source": [
    "# Random data\n",
    "N = 10\n",
    "M = 2\n",
    "input = np.random.random((N,M))\n",
    "print(input)"
   ]
  },
  {
   "cell_type": "code",
   "execution_count": 4,
   "metadata": {
    "slideshow": {
     "slide_type": "subslide"
    }
   },
   "outputs": [],
   "source": [
    "# Setup matrices\n",
    "m = np.shape(input)[0]\n",
    "X = np.matrix([np.ones(m), input[:,0]]).T\n",
    "y = np.matrix(input[:,1]).T"
   ]
  },
  {
   "cell_type": "markdown",
   "metadata": {
    "slideshow": {
     "slide_type": "subslide"
    }
   },
   "source": [
    "Which results in:\n",
    "    \n",
    "<img src=\"deriv_final.png\" width=\"250\">\n"
   ]
  },
  {
   "cell_type": "code",
   "execution_count": 5,
   "metadata": {
    "slideshow": {
     "slide_type": "fragment"
    }
   },
   "outputs": [
    {
     "name": "stdout",
     "output_type": "stream",
     "text": [
      "[[0.40606966]\n",
      " [0.16115122]]\n"
     ]
    }
   ],
   "source": [
    "# Solve for projection matrix\n",
    "p_mat = np.linalg.inv(X.T.dot(X)).dot(X.T).dot(y)\n",
    "print(p_mat)"
   ]
  },
  {
   "cell_type": "code",
   "execution_count": 6,
   "metadata": {
    "slideshow": {
     "slide_type": "subslide"
    }
   },
   "outputs": [],
   "source": [
    "# Find regression line\n",
    "xx = np.linspace(0, 1, 2)\n",
    "yy = np.array(p_mat[0] + p_mat[1] * xx)"
   ]
  },
  {
   "cell_type": "code",
   "execution_count": 7,
   "metadata": {
    "slideshow": {
     "slide_type": "subslide"
    }
   },
   "outputs": [
    {
     "data": {
      "image/png": "[encoded data removed]",
      "text/plain": [
       "<Figure size 432x288 with 1 Axes>"
      ]
     },
     "metadata": {
      "needs_background": "light"
     },
     "output_type": "display_data"
    }
   ],
   "source": [
    "# Plot data, regression line\n",
    "plt.figure(1)\n",
    "plt.plot(xx, yy.T, color='b')\n",
    "plt.scatter(input[:,0], input[:,1], color='r')\n",
    "plt.show()\n"
   ]
  },
  {
   "cell_type": "markdown",
   "metadata": {
    "slideshow": {
     "slide_type": "slide"
    }
   },
   "source": [
    "### Further Learning Materials\n",
    "\n",
    "#### Tutorials \n",
    "- [Linear Algebra for Data Science](https://medium.com/@rathi.ankit/linear-algebra-for-data-science-a9648b9daee0)\n",
    "- [Linear Regression](https://towardsdatascience.com/simple-linear-regression-2421076a5892)\n",
    "- [The LInear Algebra View of OLS](https://medium.com/@andrew.chamberlain/the-linear-algebra-view-of-least-squares-regression-f67044b7f39b)\n",
    "\n",
    "#### Videos\n",
    "- [Andrew Ng's Machine Learning course videos](https://www.youtube.com/watch?v=Dft1cqjwlXE&t=1s&list=PLLssT5z_DsK-h9vYZkQkYNWcItqhlRJLN&index=13)\n",
    "- [Linear Algebra Intuition Videos](https://www.youtube.com/playlist?list=PLZHQObOWTQDPD3MizzM2xVFitgF8hE_ab)  \n",
    "- [Imperial College Coursera course](https://www.coursera.org/learn/linear-algebra-machine-learning/home/welcome)    "
   ]
  },
  {
   "cell_type": "code",
   "execution_count": null,
   "metadata": {},
   "outputs": [],
   "source": []
  }
 ],
 "metadata": {
  "celltoolbar": "Slideshow",
  "kernelspec": {
   "display_name": "Python 3",
   "language": "python",
   "name": "python3"
  },
  "language_info": {
   "codemirror_mode": {
    "name": "ipython",
    "version": 3
   },
   "file_extension": ".py",
   "mimetype": "text/x-python",
   "name": "python",
   "nbconvert_exporter": "python",
   "pygments_lexer": "ipython3",
   "version": "3.6.8"
  }
 },
 "nbformat": 4,
 "nbformat_minor": 2
}
