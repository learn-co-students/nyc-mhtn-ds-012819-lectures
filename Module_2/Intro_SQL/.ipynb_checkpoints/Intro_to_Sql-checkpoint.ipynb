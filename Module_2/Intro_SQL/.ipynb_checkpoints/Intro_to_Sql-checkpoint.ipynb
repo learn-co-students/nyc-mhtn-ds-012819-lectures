{
 "cells": [
  {
   "cell_type": "markdown",
   "metadata": {
    "slideshow": {
     "slide_type": "slide"
    }
   },
   "source": [
    "# Starting off \n",
    "\n",
    "Each person respond in slack with a dictionary with info about them, in the following format.\n",
    "```javascript\n",
    "    {'first_name': 'Sean',\n",
    "    'last_name': 'Wilson',\n",
    "    'siblings': 2,\n",
    "    'birthday':'02-06',\n",
    "    'previous_employer':'IBM',\n",
    "    'grad_degree': true}```"
   ]
  },
  {
   "cell_type": "markdown",
   "metadata": {
    "slideshow": {
     "slide_type": "fragment"
    }
   },
   "source": [
    "### For your Mod 1 project?\n",
    "- How did you store your data after scraping or pulling from the API?\n",
    "- How did you update the saved data if you needed to add additional data points?\n",
    "- What issues did you run in to storing your data this way?"
   ]
  },
  {
   "cell_type": "markdown",
   "metadata": {
    "slideshow": {
     "slide_type": "slide"
    }
   },
   "source": [
    "# A BEGINNER’S GUIDE TO DATABASES & SQL"
   ]
  },
  {
   "cell_type": "markdown",
   "metadata": {
    "slideshow": {
     "slide_type": "subslide"
    }
   },
   "source": [
    "**Objective:** SWBAT create a SQLite db instance, create tables and insert records into those tables\n",
    "\n",
    "**Agenda:**\n",
    "- Overview of databases\n",
    "- Discuss Differences between SQL DBs\n",
    "- Explain the basic structures of a RDBMS\n",
    "- Instantiate SQLite DB instance on your computer"
   ]
  },
  {
   "cell_type": "markdown",
   "metadata": {
    "slideshow": {
     "slide_type": "slide"
    }
   },
   "source": [
    "### What is a Database?\n",
    "- In general, databases store sets of data that can be queried for use in other applications. A database man\n",
    "agement system supports the development, administration and use of database platforms."
   ]
  },
  {
   "cell_type": "markdown",
   "metadata": {
    "slideshow": {
     "slide_type": "subslide"
    }
   },
   "source": [
    "\n",
    "### What is a Relational Database? \n",
    "- An realtionsal database management system (RDBMS) is a type of DBMS with a row-based table structure that connects related data elements and includes functions that maintain the security, accuracy, integrity and consistency of the data.\n",
    "- The most basic RDBMS functions are related to create, read, update and delete operations, collectively known as CRUD."
   ]
  },
  {
   "cell_type": "markdown",
   "metadata": {
    "slideshow": {
     "slide_type": "subslide"
    }
   },
   "source": [
    "### What is SQL?\n",
    "\n",
    "- SQL (usually pronounced like the word “sequel”) stands for Structured Query Language.\n",
    "- A programming language used to communicate with data stored in a relational database management system.\n",
    "- SQL syntax is similar to the English language, which makes it relatively easy to write, read, and interpret."
   ]
  },
  {
   "cell_type": "markdown",
   "metadata": {
    "slideshow": {
     "slide_type": "slide"
    }
   },
   "source": [
    "### What are the major parts of a SQL DB?"
   ]
  },
  {
   "cell_type": "markdown",
   "metadata": {
    "slideshow": {
     "slide_type": "fragment"
    }
   },
   "source": [
    "- Tables\n",
    "- Indexes\n",
    "- Views\n",
    "- Store Procedures\n",
    "- Triggers"
   ]
  },
  {
   "cell_type": "markdown",
   "metadata": {
    "slideshow": {
     "slide_type": "subslide"
    }
   },
   "source": [
    "#### Tables\n",
    "Tables are used to store data within the database.  They are its main component and without them, the database would serve little purpose. \n"
   ]
  },
  {
   "cell_type": "markdown",
   "metadata": {
    "slideshow": {
     "slide_type": "fragment"
    }
   },
   "source": [
    "- Tables can have hundreds, thousands, sometimes even millions of rows of data. These rows are often called **records**.\n",
    "- The consists of **columns** of data that are labeled with a descriptive name (say, age for example) and have a specific data type.\n"
   ]
  },
  {
   "cell_type": "markdown",
   "metadata": {
    "slideshow": {
     "slide_type": "fragment"
    }
   },
   "source": [
    "![alt text](columns.png)"
   ]
  },
  {
   "cell_type": "markdown",
   "metadata": {
    "slideshow": {
     "slide_type": "subslide"
    }
   },
   "source": [
    "### Indexes\n",
    "Indexes are used to make data retrieval faster. Rather than having to scan an entire table for data, an index allows the database to, essentially, directly retrieve the data being asked of it.\n"
   ]
  },
  {
   "cell_type": "markdown",
   "metadata": {
    "slideshow": {
     "slide_type": "subslide"
    }
   },
   "source": [
    "Indexes are primariy created using using a **Primary Key**.\n",
    "A primary key’s main features are:\n",
    "\n",
    "- It must contain a unique value for each row of data.\n",
    "- It cannot contain null values.\n",
    "\n",
    "A primary key is either an existing table column or a column that is specifically generated by the database according to a defined sequence."
   ]
  },
  {
   "cell_type": "markdown",
   "metadata": {
    "slideshow": {
     "slide_type": "subslide"
    }
   },
   "source": [
    "If you were a tax accountant and you wanted to create a database of your clients, which of the following columns who be a good choice for your primary key?\n",
    "\n",
    "- First Name\n",
    "- Last Name\n",
    "- Email Address\n",
    "- SSN\n",
    "- Phone Number"
   ]
  },
  {
   "cell_type": "markdown",
   "metadata": {
    "slideshow": {
     "slide_type": "subslide"
    }
   },
   "source": [
    "![alt text](employees-schema.png)"
   ]
  },
  {
   "cell_type": "markdown",
   "metadata": {
    "slideshow": {
     "slide_type": "subslide"
    }
   },
   "source": [
    "### Views \n",
    "\n",
    "Help combat this issue by allowing the database administrator to create “canned” or pre-built queries.\n",
    "\n",
    "Allow you to pull data from multiple tables together without moving or copying the data."
   ]
  },
  {
   "cell_type": "markdown",
   "metadata": {
    "slideshow": {
     "slide_type": "subslide"
    }
   },
   "source": [
    "### Stored Procedures\n",
    "\n",
    "There are many situations where queries alone are insufficient to solve a problem.  In these cases, developers rely on programming languages to process logic, to loop through records, and perform conditional comparisons as required.  These programs can be stored in the SQL database as stored procedures."
   ]
  },
  {
   "cell_type": "markdown",
   "metadata": {
    "slideshow": {
     "slide_type": "subslide"
    }
   },
   "source": [
    "### Triggers\n",
    "\n",
    "Triggers are special instructions that are executed when important events, such as inserting or updating records in a table happen. The most common triggers are Insert, Update, and Delete triggers.  \n",
    "\n",
    "Two items define a trigger on a table: a stored procedure and an event, such as inserting a record that invokes its execution."
   ]
  },
  {
   "cell_type": "markdown",
   "metadata": {
    "slideshow": {
     "slide_type": "slide"
    }
   },
   "source": [
    "## POPULAR RDBMS\n",
    "\n",
    "- SQLite\n",
    "- MySQL\n",
    "- PostgreSql\n",
    "- Oracle DB\n",
    "- SQL Server"
   ]
  },
  {
   "cell_type": "markdown",
   "metadata": {
    "slideshow": {
     "slide_type": "subslide"
    }
   },
   "source": [
    "### SQLite\n",
    "\n",
    "- SQLite is a popular open source SQL database. \n",
    "- It can store an entire database in a single file.\n",
    "- It is 'lite' because it is not server based.\n",
    "- Does not have many features of server-based RDBMS like users and permissions.\n",
    "- Great to get up and running quick, not good for complex projects."
   ]
  },
  {
   "cell_type": "markdown",
   "metadata": {
    "slideshow": {
     "slide_type": "subslide"
    }
   },
   "source": [
    "### MySQL\n",
    "\n",
    "- MySQL is the most popular open source SQL database. \n",
    "- It is typically used for web application development, and often accessed using PHP. \n",
    "- It is easy to use, inexpensive, reliable and has a large community of developers who can help answer questions.\n",
    "- Open source development has lagged since Oracle has taken control of MySQL.\n",
    "- Has been known to suffer from poor performance when scaling, \n",
    "- Does not include some advanced features that developers may be used to."
   ]
  },
  {
   "cell_type": "markdown",
   "metadata": {
    "slideshow": {
     "slide_type": "subslide"
    }
   },
   "source": [
    "### PostgreSQL\n",
    "\n",
    "- PostgreSQL is an open-source SQL database that is not controlled by any corporation.\n",
    "- PostgreSQL shares many of the same advantages of MySQL.\n",
    "- It is slower in performance than other databases such as MySQL\n",
    "- Harder to come by hosts or service providers that offer managed PostgreSQL instances. "
   ]
  },
  {
   "cell_type": "markdown",
   "metadata": {
    "slideshow": {
     "slide_type": "subslide"
    }
   },
   "source": [
    "### Oracle DB\n",
    "\n",
    "- Owned by Oracle Corporation, and the code is not open sourced. \n",
    "- Oracle DB is for large applications, particularly in the banking industry. \n",
    "- The main disadvantage of using Oracle is that it is not free."
   ]
  },
  {
   "cell_type": "markdown",
   "metadata": {
    "slideshow": {
     "slide_type": "subslide"
    }
   },
   "source": [
    "### SQL Server\n",
    "\n",
    "- Microsoft owns SQL Server. \n",
    "- Large enterprise applications mostly use SQL Server.\n",
    "- Microsoft offers a free entry-level version called Express but can become very expensive as you scale your application. "
   ]
  },
  {
   "cell_type": "markdown",
   "metadata": {
    "slideshow": {
     "slide_type": "slide"
    }
   },
   "source": [
    "## Working With SQLite"
   ]
  },
  {
   "cell_type": "markdown",
   "metadata": {
    "slideshow": {
     "slide_type": "subslide"
    }
   },
   "source": [
    "SQLite comes standard with Python so all you need to do to get it set up is write:\n",
    "\n",
    "`import sqlite3`"
   ]
  },
  {
   "cell_type": "markdown",
   "metadata": {
    "slideshow": {
     "slide_type": "fragment"
    }
   },
   "source": [
    "There are specific python modules that you can use to work with SQL dbs depending on the DB.\n",
    "\n",
    "- Microsoft SQL = pymssql\n",
    "- Postgres = psycopg2\n",
    "- MySQLdb = MySQLDB"
   ]
  },
  {
   "cell_type": "markdown",
   "metadata": {
    "slideshow": {
     "slide_type": "subslide"
    }
   },
   "source": [
    "### Creating a Connection\n",
    "\n",
    "Before you can do anything with your DB, you must first create a connection with it. For DBs that are server based, this can be more coplicated requiring you to know the server ip, a username, password database name, and port. \n",
    "``` python \n",
    "import MySQLdb\n",
    "conn = MySQLdb.connect(host=host, user=user, passwd=passwd, db=db)\n",
    "```"
   ]
  },
  {
   "cell_type": "markdown",
   "metadata": {
    "slideshow": {
     "slide_type": "subslide"
    }
   },
   "source": [
    "For SQLite, this is much easier because you jsut need to access the flat file where the DB is stored. "
   ]
  },
  {
   "cell_type": "code",
   "execution_count": 2,
   "metadata": {
    "slideshow": {
     "slide_type": "fragment"
    }
   },
   "outputs": [],
   "source": [
    "import sqlite3\n",
    "\n",
    "conn = sqlite3.connect('tutorial.db')\n"
   ]
  },
  {
   "cell_type": "markdown",
   "metadata": {
    "slideshow": {
     "slide_type": "subslide"
    }
   },
   "source": [
    "#### Cursor\n",
    "This temporary work area is used to store the data retrieved from the database, and manipulate this data. \n",
    "\n",
    "A cursor can hold more than one row, but can process only one row at a time. \n",
    "\n",
    "The set of rows the cursor holds is called the active set."
   ]
  },
  {
   "cell_type": "code",
   "execution_count": 2,
   "metadata": {
    "slideshow": {
     "slide_type": "fragment"
    }
   },
   "outputs": [],
   "source": [
    "c = conn.cursor()"
   ]
  },
  {
   "cell_type": "markdown",
   "metadata": {
    "slideshow": {
     "slide_type": "subslide"
    }
   },
   "source": [
    "#### Create a Table\n",
    "Now that we have a connection and a cursor, lets create a table."
   ]
  },
  {
   "cell_type": "code",
   "execution_count": 3,
   "metadata": {
    "slideshow": {
     "slide_type": "fragment"
    }
   },
   "outputs": [],
   "source": [
    "create_query = \"\"\"CREATE TABLE IF NOT EXISTS stuffToPlot\n",
    "        (unix REAL, datestamp TEXT, keyword TEXT, value REAL)\"\"\"\n",
    "def create_table(query):\n",
    "    c.execute(query)\n"
   ]
  },
  {
   "cell_type": "code",
   "execution_count": 6,
   "metadata": {
    "slideshow": {
     "slide_type": "fragment"
    }
   },
   "outputs": [],
   "source": [
    "insert_query = \"\"\"INSERT INTO stuffToPlot VALUES\n",
    "                (1452549219,'2016-01-11 13:53:39','Python',6)\"\"\"\n",
    "def data_entry(query):\n",
    "    c.execute(query)\n",
    "\n",
    "    conn.commit()\n",
    "    c.close()\n",
    "    conn.close()\n",
    "    "
   ]
  },
  {
   "cell_type": "code",
   "execution_count": 8,
   "metadata": {
    "slideshow": {
     "slide_type": "fragment"
    }
   },
   "outputs": [],
   "source": [
    "create_table(create_query)\n",
    "data_entry(insert_query)"
   ]
  },
  {
   "cell_type": "markdown",
   "metadata": {
    "slideshow": {
     "slide_type": "subslide"
    }
   },
   "source": [
    "### Your Practice\n",
    "Let's create a table for students in this class\n",
    "\n",
    "```create_query = \"\"\"CREATE TABLE IF NOT EXISTS ***\n",
    "        ()\"\"\"\n",
    "def create_table(query):\n",
    "    c.execute(query)```"
   ]
  },
  {
   "cell_type": "markdown",
   "metadata": {
    "slideshow": {
     "slide_type": "fragment"
    }
   },
   "source": [
    "Now let's insert yourself as a record\n",
    "```insert_query = \"\"\"INSERT INTO *** VALUES()\"\"\"\n",
    "def data_entry(query):\n",
    "    c.execute(query)\n",
    "\n",
    "    conn.commit()\n",
    "    c.close()\n",
    "    conn.close()```"
   ]
  },
  {
   "cell_type": "markdown",
   "metadata": {
    "slideshow": {
     "slide_type": "subslide"
    }
   },
   "source": [
    "#### Inserting Data dynamically"
   ]
  },
  {
   "cell_type": "code",
   "execution_count": 9,
   "metadata": {
    "slideshow": {
     "slide_type": "fragment"
    }
   },
   "outputs": [],
   "source": [
    "import time\n",
    "import datetime\n",
    "import random"
   ]
  },
  {
   "cell_type": "code",
   "execution_count": 3,
   "metadata": {
    "slideshow": {
     "slide_type": "fragment"
    }
   },
   "outputs": [],
   "source": [
    "conn = sqlite3.connect('tutorial.db')\n",
    "c = conn.cursor()"
   ]
  },
  {
   "cell_type": "code",
   "execution_count": 13,
   "metadata": {
    "slideshow": {
     "slide_type": "subslide"
    }
   },
   "outputs": [],
   "source": [
    "def dynamic_data_entry():\n",
    "\n",
    "    unix = int(time.time())\n",
    "    date = str(datetime.datetime.fromtimestamp(unix).strftime('%Y-%m-%d %H:%M:%S'))\n",
    "    keyword = 'Python'\n",
    "    value = random.randrange(0,10)\n",
    "\n",
    "    c.execute(\"INSERT INTO stuffToPlot (unix, datestamp, keyword, value) VALUES (?, ?, ?, ?)\",\n",
    "          (unix, date, keyword, value))\n",
    "\n",
    "    conn.commit()"
   ]
  },
  {
   "cell_type": "code",
   "execution_count": 14,
   "metadata": {
    "slideshow": {
     "slide_type": "fragment"
    }
   },
   "outputs": [],
   "source": [
    "for i in range(10):\n",
    "    dynamic_data_entry()\n",
    "    time.sleep(1)\n",
    "\n",
    "# c.close\n",
    "# conn.close()"
   ]
  },
  {
   "cell_type": "markdown",
   "metadata": {
    "slideshow": {
     "slide_type": "subslide"
    }
   },
   "source": [
    "#### Let's insert every student in the class. \n",
    "Write a function that will take a list of dictionaries for each student and then dynamically insert each person as a row.  \n"
   ]
  },
  {
   "cell_type": "markdown",
   "metadata": {
    "slideshow": {
     "slide_type": "subslide"
    }
   },
   "source": [
    "We can also write a query that reads from the DB"
   ]
  },
  {
   "cell_type": "code",
   "execution_count": 18,
   "metadata": {
    "slideshow": {
     "slide_type": "fragment"
    }
   },
   "outputs": [
    {
     "name": "stdout",
     "output_type": "stream",
     "text": [
      "[(1452549219.0, '2016-01-11 13:53:39', 'Python', 6.0), (1550544719.0, '2019-02-18 21:51:59', 'Python', 6.0), (1550544720.0, '2019-02-18 21:52:00', 'Python', 2.0), (1550544721.0, '2019-02-18 21:52:01', 'Python', 6.0), (1550544722.0, '2019-02-18 21:52:02', 'Python', 9.0), (1550544723.0, '2019-02-18 21:52:03', 'Python', 9.0), (1550544724.0, '2019-02-18 21:52:04', 'Python', 7.0), (1550544725.0, '2019-02-18 21:52:05', 'Python', 3.0), (1550544726.0, '2019-02-18 21:52:06', 'Python', 4.0), (1550544727.0, '2019-02-18 21:52:07', 'Python', 6.0), (1550544728.0, '2019-02-18 21:52:08', 'Python', 0.0)]\n",
      "(1452549219.0, '2016-01-11 13:53:39', 'Python', 6.0)\n",
      "(1550544719.0, '2019-02-18 21:51:59', 'Python', 6.0)\n",
      "(1550544720.0, '2019-02-18 21:52:00', 'Python', 2.0)\n",
      "(1550544721.0, '2019-02-18 21:52:01', 'Python', 6.0)\n",
      "(1550544722.0, '2019-02-18 21:52:02', 'Python', 9.0)\n",
      "(1550544723.0, '2019-02-18 21:52:03', 'Python', 9.0)\n",
      "(1550544724.0, '2019-02-18 21:52:04', 'Python', 7.0)\n",
      "(1550544725.0, '2019-02-18 21:52:05', 'Python', 3.0)\n",
      "(1550544726.0, '2019-02-18 21:52:06', 'Python', 4.0)\n",
      "(1550544727.0, '2019-02-18 21:52:07', 'Python', 6.0)\n",
      "(1550544728.0, '2019-02-18 21:52:08', 'Python', 0.0)\n"
     ]
    }
   ],
   "source": [
    "def read_from_db():\n",
    "    c.execute('SELECT * FROM stuffToPlot')\n",
    "    data = c.fetchall()\n",
    "    print(data)\n",
    "    for row in data:\n",
    "        print(row)\n",
    "\n",
    "read_from_db()"
   ]
  },
  {
   "cell_type": "code",
   "execution_count": null,
   "metadata": {
    "slideshow": {
     "slide_type": "subslide"
    }
   },
   "outputs": [],
   "source": [
    "# write code to read from our students DB"
   ]
  },
  {
   "cell_type": "markdown",
   "metadata": {
    "slideshow": {
     "slide_type": "subslide"
    }
   },
   "source": [
    "We can also read a table straight into a pandas DF."
   ]
  },
  {
   "cell_type": "code",
   "execution_count": 19,
   "metadata": {
    "slideshow": {
     "slide_type": "fragment"
    }
   },
   "outputs": [
    {
     "data": {
      "text/html": [
       "<div>\n",
       "<style scoped>\n",
       "    .dataframe tbody tr th:only-of-type {\n",
       "        vertical-align: middle;\n",
       "    }\n",
       "\n",
       "    .dataframe tbody tr th {\n",
       "        vertical-align: top;\n",
       "    }\n",
       "\n",
       "    .dataframe thead th {\n",
       "        text-align: right;\n",
       "    }\n",
       "</style>\n",
       "<table border=\"1\" class=\"dataframe\">\n",
       "  <thead>\n",
       "    <tr style=\"text-align: right;\">\n",
       "      <th></th>\n",
       "      <th>unix</th>\n",
       "      <th>datestamp</th>\n",
       "      <th>keyword</th>\n",
       "      <th>value</th>\n",
       "    </tr>\n",
       "  </thead>\n",
       "  <tbody>\n",
       "    <tr>\n",
       "      <th>0</th>\n",
       "      <td>1.452549e+09</td>\n",
       "      <td>2016-01-11 13:53:39</td>\n",
       "      <td>Python</td>\n",
       "      <td>6.0</td>\n",
       "    </tr>\n",
       "    <tr>\n",
       "      <th>1</th>\n",
       "      <td>1.550545e+09</td>\n",
       "      <td>2019-02-18 21:51:59</td>\n",
       "      <td>Python</td>\n",
       "      <td>6.0</td>\n",
       "    </tr>\n",
       "    <tr>\n",
       "      <th>2</th>\n",
       "      <td>1.550545e+09</td>\n",
       "      <td>2019-02-18 21:52:00</td>\n",
       "      <td>Python</td>\n",
       "      <td>2.0</td>\n",
       "    </tr>\n",
       "    <tr>\n",
       "      <th>3</th>\n",
       "      <td>1.550545e+09</td>\n",
       "      <td>2019-02-18 21:52:01</td>\n",
       "      <td>Python</td>\n",
       "      <td>6.0</td>\n",
       "    </tr>\n",
       "    <tr>\n",
       "      <th>4</th>\n",
       "      <td>1.550545e+09</td>\n",
       "      <td>2019-02-18 21:52:02</td>\n",
       "      <td>Python</td>\n",
       "      <td>9.0</td>\n",
       "    </tr>\n",
       "    <tr>\n",
       "      <th>5</th>\n",
       "      <td>1.550545e+09</td>\n",
       "      <td>2019-02-18 21:52:03</td>\n",
       "      <td>Python</td>\n",
       "      <td>9.0</td>\n",
       "    </tr>\n",
       "    <tr>\n",
       "      <th>6</th>\n",
       "      <td>1.550545e+09</td>\n",
       "      <td>2019-02-18 21:52:04</td>\n",
       "      <td>Python</td>\n",
       "      <td>7.0</td>\n",
       "    </tr>\n",
       "    <tr>\n",
       "      <th>7</th>\n",
       "      <td>1.550545e+09</td>\n",
       "      <td>2019-02-18 21:52:05</td>\n",
       "      <td>Python</td>\n",
       "      <td>3.0</td>\n",
       "    </tr>\n",
       "    <tr>\n",
       "      <th>8</th>\n",
       "      <td>1.550545e+09</td>\n",
       "      <td>2019-02-18 21:52:06</td>\n",
       "      <td>Python</td>\n",
       "      <td>4.0</td>\n",
       "    </tr>\n",
       "    <tr>\n",
       "      <th>9</th>\n",
       "      <td>1.550545e+09</td>\n",
       "      <td>2019-02-18 21:52:07</td>\n",
       "      <td>Python</td>\n",
       "      <td>6.0</td>\n",
       "    </tr>\n",
       "    <tr>\n",
       "      <th>10</th>\n",
       "      <td>1.550545e+09</td>\n",
       "      <td>2019-02-18 21:52:08</td>\n",
       "      <td>Python</td>\n",
       "      <td>0.0</td>\n",
       "    </tr>\n",
       "  </tbody>\n",
       "</table>\n",
       "</div>"
      ],
      "text/plain": [
       "            unix            datestamp keyword  value\n",
       "0   1.452549e+09  2016-01-11 13:53:39  Python    6.0\n",
       "1   1.550545e+09  2019-02-18 21:51:59  Python    6.0\n",
       "2   1.550545e+09  2019-02-18 21:52:00  Python    2.0\n",
       "3   1.550545e+09  2019-02-18 21:52:01  Python    6.0\n",
       "4   1.550545e+09  2019-02-18 21:52:02  Python    9.0\n",
       "5   1.550545e+09  2019-02-18 21:52:03  Python    9.0\n",
       "6   1.550545e+09  2019-02-18 21:52:04  Python    7.0\n",
       "7   1.550545e+09  2019-02-18 21:52:05  Python    3.0\n",
       "8   1.550545e+09  2019-02-18 21:52:06  Python    4.0\n",
       "9   1.550545e+09  2019-02-18 21:52:07  Python    6.0\n",
       "10  1.550545e+09  2019-02-18 21:52:08  Python    0.0"
      ]
     },
     "execution_count": 19,
     "metadata": {},
     "output_type": "execute_result"
    }
   ],
   "source": [
    "import pandas as pd\n",
    "pd.read_sql_query(\"select * from stuffToPlot;\", conn)\n"
   ]
  },
  {
   "cell_type": "code",
   "execution_count": 1,
   "metadata": {
    "slideshow": {
     "slide_type": "subslide"
    }
   },
   "outputs": [],
   "source": [
    "#write code to read from our students table into a pandas DF"
   ]
  },
  {
   "cell_type": "markdown",
   "metadata": {
    "slideshow": {
     "slide_type": "subslide"
    }
   },
   "source": [
    "And we can create a DB table directly from a pandas DF."
   ]
  },
  {
   "cell_type": "code",
   "execution_count": 20,
   "metadata": {
    "slideshow": {
     "slide_type": "fragment"
    }
   },
   "outputs": [
    {
     "data": {
      "text/html": [
       "<div>\n",
       "<style scoped>\n",
       "    .dataframe tbody tr th:only-of-type {\n",
       "        vertical-align: middle;\n",
       "    }\n",
       "\n",
       "    .dataframe tbody tr th {\n",
       "        vertical-align: top;\n",
       "    }\n",
       "\n",
       "    .dataframe thead th {\n",
       "        text-align: right;\n",
       "    }\n",
       "</style>\n",
       "<table border=\"1\" class=\"dataframe\">\n",
       "  <thead>\n",
       "    <tr style=\"text-align: right;\">\n",
       "      <th></th>\n",
       "      <th>LatD</th>\n",
       "      <th>\"LatM\"</th>\n",
       "      <th>\"LatS\"</th>\n",
       "      <th>\"NS\"</th>\n",
       "      <th>\"LonD\"</th>\n",
       "      <th>\"LonM\"</th>\n",
       "      <th>\"LonS\"</th>\n",
       "      <th>\"EW\"</th>\n",
       "      <th>\"City\"</th>\n",
       "      <th>\"State\"</th>\n",
       "    </tr>\n",
       "  </thead>\n",
       "  <tbody>\n",
       "    <tr>\n",
       "      <th>0</th>\n",
       "      <td>41</td>\n",
       "      <td>5</td>\n",
       "      <td>59</td>\n",
       "      <td>\"N\"</td>\n",
       "      <td>80</td>\n",
       "      <td>39</td>\n",
       "      <td>0</td>\n",
       "      <td>\"W\"</td>\n",
       "      <td>\"Youngstown\"</td>\n",
       "      <td>OH</td>\n",
       "    </tr>\n",
       "    <tr>\n",
       "      <th>1</th>\n",
       "      <td>42</td>\n",
       "      <td>52</td>\n",
       "      <td>48</td>\n",
       "      <td>\"N\"</td>\n",
       "      <td>97</td>\n",
       "      <td>23</td>\n",
       "      <td>23</td>\n",
       "      <td>\"W\"</td>\n",
       "      <td>\"Yankton\"</td>\n",
       "      <td>SD</td>\n",
       "    </tr>\n",
       "    <tr>\n",
       "      <th>2</th>\n",
       "      <td>46</td>\n",
       "      <td>35</td>\n",
       "      <td>59</td>\n",
       "      <td>\"N\"</td>\n",
       "      <td>120</td>\n",
       "      <td>30</td>\n",
       "      <td>36</td>\n",
       "      <td>\"W\"</td>\n",
       "      <td>\"Yakima\"</td>\n",
       "      <td>WA</td>\n",
       "    </tr>\n",
       "    <tr>\n",
       "      <th>3</th>\n",
       "      <td>42</td>\n",
       "      <td>16</td>\n",
       "      <td>12</td>\n",
       "      <td>\"N\"</td>\n",
       "      <td>71</td>\n",
       "      <td>48</td>\n",
       "      <td>0</td>\n",
       "      <td>\"W\"</td>\n",
       "      <td>\"Worcester\"</td>\n",
       "      <td>MA</td>\n",
       "    </tr>\n",
       "    <tr>\n",
       "      <th>4</th>\n",
       "      <td>43</td>\n",
       "      <td>37</td>\n",
       "      <td>48</td>\n",
       "      <td>\"N\"</td>\n",
       "      <td>89</td>\n",
       "      <td>46</td>\n",
       "      <td>11</td>\n",
       "      <td>\"W\"</td>\n",
       "      <td>\"Wisconsin Dells\"</td>\n",
       "      <td>WI</td>\n",
       "    </tr>\n",
       "  </tbody>\n",
       "</table>\n",
       "</div>"
      ],
      "text/plain": [
       "   LatD   \"LatM\"   \"LatS\"  \"NS\"   \"LonD\"   \"LonM\"   \"LonS\"  \"EW\"  \\\n",
       "0    41        5       59   \"N\"       80       39        0   \"W\"   \n",
       "1    42       52       48   \"N\"       97       23       23   \"W\"   \n",
       "2    46       35       59   \"N\"      120       30       36   \"W\"   \n",
       "3    42       16       12   \"N\"       71       48        0   \"W\"   \n",
       "4    43       37       48   \"N\"       89       46       11   \"W\"   \n",
       "\n",
       "               \"City\"  \"State\"  \n",
       "0        \"Youngstown\"       OH  \n",
       "1           \"Yankton\"       SD  \n",
       "2            \"Yakima\"       WA  \n",
       "3         \"Worcester\"       MA  \n",
       "4   \"Wisconsin Dells\"       WI  "
      ]
     },
     "execution_count": 20,
     "metadata": {},
     "output_type": "execute_result"
    }
   ],
   "source": [
    "cities = pd.read_csv('cities.csv')\n",
    "cities.head()"
   ]
  },
  {
   "cell_type": "code",
   "execution_count": 21,
   "metadata": {
    "slideshow": {
     "slide_type": "fragment"
    }
   },
   "outputs": [
    {
     "name": "stderr",
     "output_type": "stream",
     "text": [
      "/Users/swilson5/anaconda3/lib/python3.6/site-packages/pandas/core/generic.py:2130: UserWarning: The spaces in these column names will not be changed. In pandas versions < 0.14, spaces were converted to underscores.\n",
      "  dtype=dtype)\n"
     ]
    }
   ],
   "source": [
    "cities.to_sql(\"cities\", conn, if_exists=\"replace\")\n"
   ]
  },
  {
   "cell_type": "code",
   "execution_count": null,
   "metadata": {
    "slideshow": {
     "slide_type": "subslide"
    }
   },
   "outputs": [],
   "source": [
    "# find a random csv file on your computer and read in add it to yoru DB"
   ]
  },
  {
   "cell_type": "code",
   "execution_count": 4,
   "metadata": {
    "slideshow": {
     "slide_type": "subslide"
    }
   },
   "outputs": [
    {
     "name": "stdout",
     "output_type": "stream",
     "text": [
      "[(0, 41, 5, 59, ' \"N\"', 80, 39, 0, ' \"W\"', ' \"Youngstown\"', ' OH'), (1, 42, 52, 48, ' \"N\"', 97, 23, 23, ' \"W\"', ' \"Yankton\"', ' SD'), (2, 46, 35, 59, ' \"N\"', 120, 30, 36, ' \"W\"', ' \"Yakima\"', ' WA'), (3, 42, 16, 12, ' \"N\"', 71, 48, 0, ' \"W\"', ' \"Worcester\"', ' MA'), (4, 43, 37, 48, ' \"N\"', 89, 46, 11, ' \"W\"', ' \"Wisconsin Dells\"', ' WI'), (5, 36, 5, 59, ' \"N\"', 80, 15, 0, ' \"W\"', ' \"Winston-Salem\"', ' NC'), (6, 49, 52, 48, ' \"N\"', 97, 9, 0, ' \"W\"', ' \"Winnipeg\"', ' MB'), (7, 39, 11, 23, ' \"N\"', 78, 9, 36, ' \"W\"', ' \"Winchester\"', ' VA'), (8, 34, 14, 24, ' \"N\"', 77, 55, 11, ' \"W\"', ' \"Wilmington\"', ' NC'), (9, 39, 45, 0, ' \"N\"', 75, 33, 0, ' \"W\"', ' \"Wilmington\"', ' DE')]\n",
      "(0, 41, 5, 59, ' \"N\"', 80, 39, 0, ' \"W\"', ' \"Youngstown\"', ' OH')\n",
      "(1, 42, 52, 48, ' \"N\"', 97, 23, 23, ' \"W\"', ' \"Yankton\"', ' SD')\n",
      "(2, 46, 35, 59, ' \"N\"', 120, 30, 36, ' \"W\"', ' \"Yakima\"', ' WA')\n",
      "(3, 42, 16, 12, ' \"N\"', 71, 48, 0, ' \"W\"', ' \"Worcester\"', ' MA')\n",
      "(4, 43, 37, 48, ' \"N\"', 89, 46, 11, ' \"W\"', ' \"Wisconsin Dells\"', ' WI')\n",
      "(5, 36, 5, 59, ' \"N\"', 80, 15, 0, ' \"W\"', ' \"Winston-Salem\"', ' NC')\n",
      "(6, 49, 52, 48, ' \"N\"', 97, 9, 0, ' \"W\"', ' \"Winnipeg\"', ' MB')\n",
      "(7, 39, 11, 23, ' \"N\"', 78, 9, 36, ' \"W\"', ' \"Winchester\"', ' VA')\n",
      "(8, 34, 14, 24, ' \"N\"', 77, 55, 11, ' \"W\"', ' \"Wilmington\"', ' NC')\n",
      "(9, 39, 45, 0, ' \"N\"', 75, 33, 0, ' \"W\"', ' \"Wilmington\"', ' DE')\n"
     ]
    }
   ],
   "source": [
    "def read_from_db():\n",
    "    c.execute('SELECT * FROM cities LIMIT 10')\n",
    "    data = c.fetchall()\n",
    "    print(data)\n",
    "    for row in data:\n",
    "        print(row)\n",
    "\n",
    "read_from_db()"
   ]
  }
 ],
 "metadata": {
  "celltoolbar": "Slideshow",
  "kernelspec": {
   "display_name": "Python 3",
   "language": "python",
   "name": "python3"
  },
  "language_info": {
   "codemirror_mode": {
    "name": "ipython",
    "version": 3
   },
   "file_extension": ".py",
   "mimetype": "text/x-python",
   "name": "python",
   "nbconvert_exporter": "python",
   "pygments_lexer": "ipython3",
   "version": "3.6.8"
  }
 },
 "nbformat": 4,
 "nbformat_minor": 2
}
